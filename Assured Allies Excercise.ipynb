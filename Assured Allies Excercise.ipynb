{
 "cells": [
  {
   "cell_type": "markdown",
   "id": "101f892b",
   "metadata": {},
   "source": [
    "# Mock data analysis - Assured Allies "
   ]
  },
  {
   "cell_type": "code",
   "execution_count": 1,
   "id": "2a37824a",
   "metadata": {},
   "outputs": [],
   "source": [
    "# Import necessary libraries\n",
    "import numpy as np\n",
    "import pandas as pd\n",
    "import matplotlib.pyplot as plt\n",
    "import statsmodels.api as sm\n",
    "import statsmodels.formula.api as smf\n",
    "import seaborn as sns\n",
    "\n",
    "from statsmodels.graphics.factorplots import interaction_plot\n",
    "\n",
    "pd.options.display.max_columns = 200\n",
    "pd.options.display.float_format = \"{:,.2f}\".format"
   ]
  },
  {
   "cell_type": "markdown",
   "id": "a6a348fb",
   "metadata": {},
   "source": [
    "## Create mock data"
   ]
  },
  {
   "cell_type": "code",
   "execution_count": 2,
   "id": "2daa2f44",
   "metadata": {},
   "outputs": [],
   "source": [
    "# control participants\n",
    "\n",
    "# define constants\n",
    "N=307\n",
    "# outcomes\n",
    "cost_mu = 50000; cost_sigma = 15000\n",
    "claim_p = .5\n",
    "# predictors\n",
    "age_mu = 75; age_sigma = 5\n",
    "iadl_mu = 4; iadl_sigma = 1\n",
    "male_p = 0.5; female_p = 0.5;\n",
    "\n",
    "# generate data\n",
    "np.random.seed(123)\n",
    "control_df = pd.DataFrame()\n",
    "control_df['gender'] = np.random.choice(['male', 'female'], N, p=[male_p, female_p])\n",
    "control_df['group'] = 'control'\n",
    "control_df['iadl'] = abs(np.random.normal(loc = iadl_mu, scale = iadl_sigma, size = N).round())\n",
    "control_df['age'] = abs(np.random.normal(loc = age_mu, scale = age_sigma, size = N).round())\n",
    "control_df.loc[control_df['age'] < 65, 'age'] = age_mu\n",
    "control_df['claims'] = np.random.choice([0, 1], N, p=[1-claim_p, claim_p])\n",
    "control_df['cost_claims'] = abs(np.random.normal(loc = cost_mu, scale = cost_sigma, size = N).round())\n",
    "control_df.loc[control_df['claims'] == 0, 'cost_claims'] = 0"
   ]
  },
  {
   "cell_type": "code",
   "execution_count": 3,
   "id": "c6d7d114",
   "metadata": {},
   "outputs": [],
   "source": [
    "# Intervention participants\n",
    "\n",
    "# define constants\n",
    "N=307\n",
    "# outcomes\n",
    "cost_mu = 20000; cost_sigma = 15000\n",
    "claim_p = .45\n",
    "# predictors\n",
    "age_mu = 75; age_sigma = 10\n",
    "iadl_mu = 3.5; iadl_sigma = 1\n",
    "male_p = 0.5; female_p = 0.5;\n",
    "\n",
    "# generate data\n",
    "np.random.seed(321)\n",
    "int_df = pd.DataFrame()\n",
    "int_df['gender'] = np.random.choice(['male', 'female'], N, p=[male_p, female_p])\n",
    "int_df['group'] = 'intervention'\n",
    "int_df['iadl'] = abs(np.random.normal(loc = iadl_mu, scale = iadl_sigma, size = N).round())\n",
    "int_df['age'] = abs(np.random.normal(loc = age_mu, scale = age_sigma, size = N).round())\n",
    "int_df.loc[control_df['age'] > 65, 'age'] = age_mu\n",
    "int_df['claims'] = np.random.choice([0, 1], N, p=[1-claim_p, claim_p])\n",
    "int_df['cost_claims'] = abs(np.random.normal(loc = cost_mu, scale = cost_sigma, size = N).round())\n",
    "int_df.loc[int_df['claims'] == 0, 'cost_claims'] = 0\n",
    "int_df.loc[int_df['gender'] == 'female', 'cost_claims'] =int_df.loc[int_df['gender'] == 'female', 'cost_claims'] * 1.8\n",
    "\n",
    "\n",
    "# combine to single dataframe\n",
    "df = pd.concat([control_df, int_df])"
   ]
  },
  {
   "cell_type": "markdown",
   "id": "c33359b0",
   "metadata": {},
   "source": [
    "## Data analysis"
   ]
  },
  {
   "cell_type": "code",
   "execution_count": 4,
   "id": "21d38182",
   "metadata": {
    "scrolled": true
   },
   "outputs": [
    {
     "data": {
      "text/html": [
       "<div>\n",
       "<style scoped>\n",
       "    .dataframe tbody tr th:only-of-type {\n",
       "        vertical-align: middle;\n",
       "    }\n",
       "\n",
       "    .dataframe tbody tr th {\n",
       "        vertical-align: top;\n",
       "    }\n",
       "\n",
       "    .dataframe thead tr th {\n",
       "        text-align: left;\n",
       "    }\n",
       "\n",
       "    .dataframe thead tr:last-of-type th {\n",
       "        text-align: right;\n",
       "    }\n",
       "</style>\n",
       "<table border=\"1\" class=\"dataframe\">\n",
       "  <thead>\n",
       "    <tr>\n",
       "      <th></th>\n",
       "      <th colspan=\"8\" halign=\"left\">iadl</th>\n",
       "      <th colspan=\"8\" halign=\"left\">age</th>\n",
       "      <th colspan=\"8\" halign=\"left\">claims</th>\n",
       "      <th colspan=\"8\" halign=\"left\">cost_claims</th>\n",
       "    </tr>\n",
       "    <tr>\n",
       "      <th></th>\n",
       "      <th>count</th>\n",
       "      <th>mean</th>\n",
       "      <th>std</th>\n",
       "      <th>min</th>\n",
       "      <th>25%</th>\n",
       "      <th>50%</th>\n",
       "      <th>75%</th>\n",
       "      <th>max</th>\n",
       "      <th>count</th>\n",
       "      <th>mean</th>\n",
       "      <th>std</th>\n",
       "      <th>min</th>\n",
       "      <th>25%</th>\n",
       "      <th>50%</th>\n",
       "      <th>75%</th>\n",
       "      <th>max</th>\n",
       "      <th>count</th>\n",
       "      <th>mean</th>\n",
       "      <th>std</th>\n",
       "      <th>min</th>\n",
       "      <th>25%</th>\n",
       "      <th>50%</th>\n",
       "      <th>75%</th>\n",
       "      <th>max</th>\n",
       "      <th>count</th>\n",
       "      <th>mean</th>\n",
       "      <th>std</th>\n",
       "      <th>min</th>\n",
       "      <th>25%</th>\n",
       "      <th>50%</th>\n",
       "      <th>75%</th>\n",
       "      <th>max</th>\n",
       "    </tr>\n",
       "    <tr>\n",
       "      <th>group</th>\n",
       "      <th></th>\n",
       "      <th></th>\n",
       "      <th></th>\n",
       "      <th></th>\n",
       "      <th></th>\n",
       "      <th></th>\n",
       "      <th></th>\n",
       "      <th></th>\n",
       "      <th></th>\n",
       "      <th></th>\n",
       "      <th></th>\n",
       "      <th></th>\n",
       "      <th></th>\n",
       "      <th></th>\n",
       "      <th></th>\n",
       "      <th></th>\n",
       "      <th></th>\n",
       "      <th></th>\n",
       "      <th></th>\n",
       "      <th></th>\n",
       "      <th></th>\n",
       "      <th></th>\n",
       "      <th></th>\n",
       "      <th></th>\n",
       "      <th></th>\n",
       "      <th></th>\n",
       "      <th></th>\n",
       "      <th></th>\n",
       "      <th></th>\n",
       "      <th></th>\n",
       "      <th></th>\n",
       "      <th></th>\n",
       "    </tr>\n",
       "  </thead>\n",
       "  <tbody>\n",
       "    <tr>\n",
       "      <th>control</th>\n",
       "      <td>307.00</td>\n",
       "      <td>3.96</td>\n",
       "      <td>1.04</td>\n",
       "      <td>1.00</td>\n",
       "      <td>3.00</td>\n",
       "      <td>4.00</td>\n",
       "      <td>5.00</td>\n",
       "      <td>7.00</td>\n",
       "      <td>307.00</td>\n",
       "      <td>74.92</td>\n",
       "      <td>4.72</td>\n",
       "      <td>65.00</td>\n",
       "      <td>71.00</td>\n",
       "      <td>75.00</td>\n",
       "      <td>78.00</td>\n",
       "      <td>89.00</td>\n",
       "      <td>307.00</td>\n",
       "      <td>0.49</td>\n",
       "      <td>0.50</td>\n",
       "      <td>0.00</td>\n",
       "      <td>0.00</td>\n",
       "      <td>0.00</td>\n",
       "      <td>1.00</td>\n",
       "      <td>1.00</td>\n",
       "      <td>307.00</td>\n",
       "      <td>24,174.98</td>\n",
       "      <td>26,516.69</td>\n",
       "      <td>0.00</td>\n",
       "      <td>0.00</td>\n",
       "      <td>0.00</td>\n",
       "      <td>48,459.00</td>\n",
       "      <td>88,338.00</td>\n",
       "    </tr>\n",
       "    <tr>\n",
       "      <th>intervention</th>\n",
       "      <td>307.00</td>\n",
       "      <td>3.52</td>\n",
       "      <td>0.98</td>\n",
       "      <td>1.00</td>\n",
       "      <td>3.00</td>\n",
       "      <td>4.00</td>\n",
       "      <td>4.00</td>\n",
       "      <td>7.00</td>\n",
       "      <td>307.00</td>\n",
       "      <td>75.04</td>\n",
       "      <td>0.48</td>\n",
       "      <td>72.00</td>\n",
       "      <td>75.00</td>\n",
       "      <td>75.00</td>\n",
       "      <td>75.00</td>\n",
       "      <td>80.00</td>\n",
       "      <td>307.00</td>\n",
       "      <td>0.44</td>\n",
       "      <td>0.50</td>\n",
       "      <td>0.00</td>\n",
       "      <td>0.00</td>\n",
       "      <td>0.00</td>\n",
       "      <td>1.00</td>\n",
       "      <td>1.00</td>\n",
       "      <td>307.00</td>\n",
       "      <td>13,759.53</td>\n",
       "      <td>21,312.45</td>\n",
       "      <td>0.00</td>\n",
       "      <td>0.00</td>\n",
       "      <td>0.00</td>\n",
       "      <td>24,331.00</td>\n",
       "      <td>116,773.20</td>\n",
       "    </tr>\n",
       "  </tbody>\n",
       "</table>\n",
       "</div>"
      ],
      "text/plain": [
       "               iadl                                       age             \\\n",
       "              count mean  std  min  25%  50%  75%  max  count  mean  std   \n",
       "group                                                                      \n",
       "control      307.00 3.96 1.04 1.00 3.00 4.00 5.00 7.00 307.00 74.92 4.72   \n",
       "intervention 307.00 3.52 0.98 1.00 3.00 4.00 4.00 7.00 307.00 75.04 0.48   \n",
       "\n",
       "                                           claims                           \\\n",
       "               min   25%   50%   75%   max  count mean  std  min  25%  50%   \n",
       "group                                                                        \n",
       "control      65.00 71.00 75.00 78.00 89.00 307.00 0.49 0.50 0.00 0.00 0.00   \n",
       "intervention 72.00 75.00 75.00 75.00 80.00 307.00 0.44 0.50 0.00 0.00 0.00   \n",
       "\n",
       "                       cost_claims                                     \\\n",
       "              75%  max       count      mean       std  min  25%  50%   \n",
       "group                                                                   \n",
       "control      1.00 1.00      307.00 24,174.98 26,516.69 0.00 0.00 0.00   \n",
       "intervention 1.00 1.00      307.00 13,759.53 21,312.45 0.00 0.00 0.00   \n",
       "\n",
       "                                   \n",
       "                   75%        max  \n",
       "group                              \n",
       "control      48,459.00  88,338.00  \n",
       "intervention 24,331.00 116,773.20  "
      ]
     },
     "execution_count": 4,
     "metadata": {},
     "output_type": "execute_result"
    }
   ],
   "source": [
    "# descriptives\n",
    "df.groupby('group').describe()"
   ]
  },
  {
   "cell_type": "code",
   "execution_count": 5,
   "id": "d2c59ce0",
   "metadata": {},
   "outputs": [
    {
     "name": "stdout",
     "output_type": "stream",
     "text": [
      "                 Generalized Linear Model Regression Results                  \n",
      "==============================================================================\n",
      "Dep. Variable:                 claims   No. Observations:                  614\n",
      "Model:                            GLM   Df Residuals:                      608\n",
      "Model Family:                Binomial   Df Model:                            5\n",
      "Link Function:                  logit   Scale:                          1.0000\n",
      "Method:                          IRLS   Log-Likelihood:                -421.63\n",
      "Date:                Fri, 07 Apr 2023   Deviance:                       843.26\n",
      "Time:                        00:42:18   Pearson chi2:                     614.\n",
      "No. Iterations:                     4                                         \n",
      "Covariance Type:            nonrobust                                         \n",
      "==============================================================================================================\n",
      "                                                 coef    std err          z      P>|z|      [0.025      0.975]\n",
      "--------------------------------------------------------------------------------------------------------------\n",
      "Intercept                                     -3.0445      1.866     -1.631      0.103      -6.702       0.613\n",
      "C(group)[T.intervention]                      -0.1330      0.234     -0.568      0.570      -0.592       0.326\n",
      "C(gender)[T.male]                              0.0091      0.230      0.040      0.968      -0.441       0.460\n",
      "C(gender)[T.male]:C(group)[T.intervention]    -0.1742      0.326     -0.535      0.593      -0.813       0.464\n",
      "iadl                                          -0.0130      0.081     -0.162      0.872      -0.171       0.145\n",
      "age                                            0.0408      0.024      1.670      0.095      -0.007       0.089\n",
      "==============================================================================================================\n"
     ]
    }
   ],
   "source": [
    "# Logistic model testing associations between intervention, gender, IADL, age and probability of insurance activation\n",
    "log_mod = smf.glm(formula='claims ~ C(group) + C(gender) + iadl + age + C(gender) * C(group)', data=df, family = sm.families.Binomial())\n",
    "res_claim = log_mod.fit()\n",
    "print(res_claim.summary())"
   ]
  },
  {
   "cell_type": "code",
   "execution_count": 6,
   "id": "0000c45d",
   "metadata": {
    "scrolled": true
   },
   "outputs": [
    {
     "name": "stdout",
     "output_type": "stream",
     "text": [
      "                                             OR  Lower CI  Upper CI\n",
      "Intercept                                  0.05      0.00      1.85\n",
      "C(group)[T.intervention]                   0.88      0.55      1.39\n",
      "C(gender)[T.male]                          1.01      0.64      1.58\n",
      "C(gender)[T.male]:C(group)[T.intervention] 0.84      0.44      1.59\n",
      "iadl                                       0.99      0.84      1.16\n",
      "age                                        1.04      0.99      1.09\n"
     ]
    }
   ],
   "source": [
    "# examine odd ratios\n",
    "odds_ratios = pd.DataFrame(\n",
    "    {\n",
    "        \"OR\": res_claim.params,\n",
    "        \"Lower CI\": res_claim.conf_int()[0],\n",
    "        \"Upper CI\": res_claim.conf_int()[1],\n",
    "    }\n",
    ")\n",
    "odds_ratios = np.exp(odds_ratios)\n",
    "\n",
    "print(odds_ratios)"
   ]
  },
  {
   "cell_type": "code",
   "execution_count": 7,
   "id": "bed4b7c1",
   "metadata": {},
   "outputs": [
    {
     "name": "stdout",
     "output_type": "stream",
     "text": [
      "                            OLS Regression Results                            \n",
      "==============================================================================\n",
      "Dep. Variable:            cost_claims   R-squared:                       0.063\n",
      "Model:                            OLS   Adj. R-squared:                  0.055\n",
      "Method:                 Least Squares   F-statistic:                     8.161\n",
      "Date:                Fri, 07 Apr 2023   Prob (F-statistic):           1.81e-07\n",
      "Time:                        00:42:19   Log-Likelihood:                -7058.5\n",
      "No. Observations:                 614   AIC:                         1.413e+04\n",
      "Df Residuals:                     608   BIC:                         1.416e+04\n",
      "Df Model:                           5                                         \n",
      "Covariance Type:            nonrobust                                         \n",
      "==============================================================================================================\n",
      "                                                 coef    std err          t      P>|t|      [0.025      0.975]\n",
      "--------------------------------------------------------------------------------------------------------------\n",
      "Intercept                                  -3653.5259    2.2e+04     -0.166      0.868   -4.69e+04    3.96e+04\n",
      "C(group)[T.intervention]                   -5891.0549   2785.646     -2.115      0.035   -1.14e+04    -420.399\n",
      "C(gender)[T.male]                            539.7490   2734.483      0.197      0.844   -4830.429    5909.927\n",
      "C(gender)[T.male]:C(group)[T.intervention] -9143.5084   3868.913     -2.363      0.018   -1.67e+04   -1545.452\n",
      "iadl                                         -95.6175    959.025     -0.100      0.921   -1979.021    1787.786\n",
      "age                                          372.9311    288.465      1.293      0.197    -193.577     939.439\n",
      "==============================================================================\n",
      "Omnibus:                       54.336   Durbin-Watson:                   1.969\n",
      "Prob(Omnibus):                  0.000   Jarque-Bera (JB):               67.219\n",
      "Skew:                           0.804   Prob(JB):                     2.53e-15\n",
      "Kurtosis:                       2.798   Cond. No.                     1.72e+03\n",
      "==============================================================================\n",
      "\n",
      "Notes:\n",
      "[1] Standard Errors assume that the covariance matrix of the errors is correctly specified.\n",
      "[2] The condition number is large, 1.72e+03. This might indicate that there are\n",
      "strong multicollinearity or other numerical problems.\n"
     ]
    }
   ],
   "source": [
    "# Linear model testing associations between intervention, gender, IADL, age and cost of claims\n",
    "mod = smf.ols(formula='cost_claims ~ C(group) + C(gender) + iadl + age + C(gender) * C(group)', data=df)\n",
    "res_cost = mod.fit()\n",
    "print(res_cost.summary())"
   ]
  },
  {
   "cell_type": "code",
   "execution_count": 8,
   "id": "2428a279",
   "metadata": {},
   "outputs": [
    {
     "data": {
      "text/html": [
       "<div>\n",
       "<style scoped>\n",
       "    .dataframe tbody tr th:only-of-type {\n",
       "        vertical-align: middle;\n",
       "    }\n",
       "\n",
       "    .dataframe tbody tr th {\n",
       "        vertical-align: top;\n",
       "    }\n",
       "\n",
       "    .dataframe thead th {\n",
       "        text-align: right;\n",
       "    }\n",
       "</style>\n",
       "<table border=\"1\" class=\"dataframe\">\n",
       "  <thead>\n",
       "    <tr style=\"text-align: right;\">\n",
       "      <th></th>\n",
       "      <th>0</th>\n",
       "      <th>1</th>\n",
       "    </tr>\n",
       "  </thead>\n",
       "  <tbody>\n",
       "    <tr>\n",
       "      <th>Intercept</th>\n",
       "      <td>-46,904.74</td>\n",
       "      <td>39,597.69</td>\n",
       "    </tr>\n",
       "    <tr>\n",
       "      <th>C(group)[T.intervention]</th>\n",
       "      <td>-11,361.71</td>\n",
       "      <td>-420.40</td>\n",
       "    </tr>\n",
       "    <tr>\n",
       "      <th>C(gender)[T.male]</th>\n",
       "      <td>-4,830.43</td>\n",
       "      <td>5,909.93</td>\n",
       "    </tr>\n",
       "    <tr>\n",
       "      <th>C(gender)[T.male]:C(group)[T.intervention]</th>\n",
       "      <td>-16,741.56</td>\n",
       "      <td>-1,545.45</td>\n",
       "    </tr>\n",
       "    <tr>\n",
       "      <th>iadl</th>\n",
       "      <td>-1,979.02</td>\n",
       "      <td>1,787.79</td>\n",
       "    </tr>\n",
       "    <tr>\n",
       "      <th>age</th>\n",
       "      <td>-193.58</td>\n",
       "      <td>939.44</td>\n",
       "    </tr>\n",
       "  </tbody>\n",
       "</table>\n",
       "</div>"
      ],
      "text/plain": [
       "                                                    0         1\n",
       "Intercept                                  -46,904.74 39,597.69\n",
       "C(group)[T.intervention]                   -11,361.71   -420.40\n",
       "C(gender)[T.male]                           -4,830.43  5,909.93\n",
       "C(gender)[T.male]:C(group)[T.intervention] -16,741.56 -1,545.45\n",
       "iadl                                        -1,979.02  1,787.79\n",
       "age                                           -193.58    939.44"
      ]
     },
     "execution_count": 8,
     "metadata": {},
     "output_type": "execute_result"
    }
   ],
   "source": [
    "res_cost.conf_int(alpha=0.05)"
   ]
  },
  {
   "cell_type": "code",
   "execution_count": 9,
   "id": "892040c5",
   "metadata": {},
   "outputs": [
    {
     "data": {
      "text/plain": [
       "<seaborn.axisgrid.FacetGrid at 0x1a972cdb640>"
      ]
     },
     "execution_count": 9,
     "metadata": {},
     "output_type": "execute_result"
    },
    {
     "data": {
      "text/plain": [
       "<Figure size 432x288 with 0 Axes>"
      ]
     },
     "metadata": {},
     "output_type": "display_data"
    },
    {
     "data": {
      "image/png": "[encoded data removed]",
      "text/plain": [
       "<Figure size 430.5x360 with 1 Axes>"
      ]
     },
     "metadata": {
      "needs_background": "light"
     },
     "output_type": "display_data"
    }
   ],
   "source": [
    "# Interaction effect - plot cost of claims by study group and gender\n",
    "plt.figure()\n",
    "ax = sns.catplot(x='group',y='cost_claims',hue = 'gender', kind = 'bar', data=df)\n",
    "ax.set(xlabel='group', ylabel='average cost of claims (USD)')"
   ]
  }
 ],
 "metadata": {
  "kernelspec": {
   "display_name": "Python 3",
   "language": "python",
   "name": "python3"
  },
  "language_info": {
   "codemirror_mode": {
    "name": "ipython",
    "version": 3
   },
   "file_extension": ".py",
   "mimetype": "text/x-python",
   "name": "python",
   "nbconvert_exporter": "python",
   "pygments_lexer": "ipython3",
   "version": "3.8.8"
  }
 },
 "nbformat": 4,
 "nbformat_minor": 5
}
